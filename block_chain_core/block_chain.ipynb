{
 "cells": [
  {
   "cell_type": "code",
   "execution_count": 11,
   "id": "initial_id",
   "metadata": {
    "collapsed": true,
    "ExecuteTime": {
     "end_time": "2025-04-29T13:01:07.367566Z",
     "start_time": "2025-04-29T13:01:07.365201Z"
    }
   },
   "outputs": [],
   "source": []
  },
  {
   "cell_type": "code",
   "outputs": [],
   "source": [
    "import hashlib\n",
    "import time\n",
    "import json\n",
    "\n",
    "from sign_transation import sign_transaction\n",
    "\n",
    "\n",
    "class Block:\n",
    "    def __init__(self, index, transactions, timestamp, previous_hash, nonce=0):\n",
    "        self.index = index\n",
    "        self.transactions = transactions  # list of dict\n",
    "        self.timestamp = timestamp\n",
    "        self.previous_hash = previous_hash\n",
    "        self.nonce = nonce\n",
    "        self.merkle_root = self.compute_merkle_root()\n",
    "        self.hash = self.compute_hash()\n",
    "\n",
    "    def compute_merkle_root(self):\n",
    "        def hash_pair(a, b):\n",
    "            return hashlib.sha256((a + b).encode()).hexdigest()\n",
    "\n",
    "        tx_hashes = [hashlib.sha256(json.dumps(tx, sort_keys=True).encode()).hexdigest()\n",
    "                     for tx in self.transactions]\n",
    "\n",
    "        while len(tx_hashes) > 1:\n",
    "            if len(tx_hashes) % 2 == 1:  # make even\n",
    "                tx_hashes.append(tx_hashes[-1])\n",
    "            tx_hashes = [hash_pair(tx_hashes[i], tx_hashes[i + 1])\n",
    "                         for i in range(0, len(tx_hashes), 2)]\n",
    "\n",
    "        return tx_hashes[0] if tx_hashes else ''\n",
    "\n",
    "    def compute_hash(self):\n",
    "        block_string = json.dumps({\n",
    "            \"index\": self.index,\n",
    "            \"transactions\": self.transactions,\n",
    "            \"timestamp\": self.timestamp,\n",
    "            \"previous_hash\": self.previous_hash,\n",
    "            \"nonce\": self.nonce,\n",
    "            \"merkle_root\": self.merkle_root\n",
    "        }, sort_keys=True)\n",
    "        return hashlib.sha256(block_string.encode()).hexdigest()"
   ],
   "metadata": {
    "collapsed": false,
    "ExecuteTime": {
     "end_time": "2025-04-29T13:01:07.379515Z",
     "start_time": "2025-04-29T13:01:07.374256Z"
    }
   },
   "id": "10eab909fae901f6",
   "execution_count": 12
  },
  {
   "cell_type": "code",
   "outputs": [
    {
     "name": "stdout",
     "output_type": "stream",
     "text": [
      "0\n",
      "0\n"
     ]
    }
   ],
   "source": [
    "import time\n",
    "import hashlib\n",
    "from multiprocessing import Process, Value, cpu_count\n",
    "from typing import List\n",
    "\n",
    "\n",
    "def mine_worker(start_nonce, step, block: Block, difficulty: int, result_nonce: Value, found_flag: Value):\n",
    "    print(\"Miner start\")\n",
    "    time.sleep(3)\n",
    "    # prefix = '0' * difficulty\n",
    "    # nonce = start_nonce\n",
    "    # \n",
    "    # while not found_flag.value:\n",
    "    #     block.nonce = nonce\n",
    "    #     current_hash = block.compute_hash()\n",
    "    #     if current_hash.startswith(prefix):\n",
    "    #         with result_nonce.get_lock(), found_flag.get_lock():\n",
    "    #             if not found_flag.value:\n",
    "    #                 print(f\"Found result nonce: {nonce}\")\n",
    "    #                 result_nonce.value = nonce\n",
    "    #                 found_flag.value = 1\n",
    "    #         return\n",
    "    #     nonce += step\n",
    "\n",
    "\n",
    "def mine_block_multiprocessing(block: Block, difficulty: int, processes: int = 4):\n",
    "    result_nonce = Value('i', 2)\n",
    "    found_flag = Value('i', 0)\n",
    "\n",
    "    # workers = []\n",
    "    # for i in range(4):\n",
    "    #     p = Process(target=mine_worker, args=(i*1000, 1, block, difficulty, result_nonce, found_flag))\n",
    "    #     p.start()\n",
    "    #     workers.append(p)\n",
    "    # \n",
    "    # for p in workers:\n",
    "    #     p.join()\n",
    "    p = Process(target=mine_worker, args=(1, 10000, block, 3, result_nonce, found_flag))\n",
    "    p.start()\n",
    "    p.join()\n",
    "\n",
    "    # Gán lại nonce và hash chính xác vào block\n",
    "    block.nonce = result_nonce.value\n",
    "    block.hash = block.compute_hash()\n",
    "\n",
    "    print(f\" Nonce found: {result_nonce.value}\")\n",
    "    print(block.hash)"
   ],
   "metadata": {
    "collapsed": false,
    "ExecuteTime": {
     "end_time": "2025-04-29T13:01:28.125090Z",
     "start_time": "2025-04-29T13:01:28.022659Z"
    }
   },
   "id": "b9fbe64458e929b7",
   "execution_count": 23
  },
  {
   "cell_type": "code",
   "outputs": [
    {
     "name": "stdout",
     "output_type": "stream",
     "text": [
      "0\n",
      "0\n"
     ]
    }
   ],
   "source": [
    "new_block = Block(\n",
    "    index=1,\n",
    "    transactions=[{\"from\": \"Alice\", \"to\": \"Bob\", \"amount\": 10}],\n",
    "    timestamp=time.time(),\n",
    "    previous_hash=123213\n",
    ")\n",
    "\n",
    "result_nonce = Value('i', 0)\n",
    "found_flag = Value('i', 0)\n",
    "\n",
    "# mine_worker(1,10000,new_block,3,result_nonce,found_flag)\n",
    "p = Process(target=mine_worker, args=(1, 10000, new_block, 3, result_nonce, found_flag))\n",
    "p.start()\n",
    "p.join()\n",
    "\n",
    "print(result_nonce.value)\n",
    "print(found_flag.value)\n",
    "\n",
    "# mine_block_multiprocessing(new_block, 4)"
   ],
   "metadata": {
    "collapsed": false,
    "ExecuteTime": {
     "end_time": "2025-04-29T13:01:15.165063Z",
     "start_time": "2025-04-29T13:01:15.069564Z"
    }
   },
   "id": "655e485f1afa0f4",
   "execution_count": 22
  },
  {
   "cell_type": "code",
   "outputs": [
    {
     "name": "stdout",
     "output_type": "stream",
     "text": [
      "0\n"
     ]
    }
   ],
   "source": [
    "# new_block.nonce = result_nonce.value\n",
    "# print(new_block.compute_hash())\n",
    "\n",
    "print(new_block.nonce)"
   ],
   "metadata": {
    "collapsed": false,
    "ExecuteTime": {
     "end_time": "2025-04-29T13:01:07.494859Z",
     "start_time": "2025-04-29T13:01:07.491968Z"
    }
   },
   "id": "9f3109b43e45dcc1",
   "execution_count": 15
  },
  {
   "cell_type": "code",
   "outputs": [],
   "source": [
    "class Blockchain:\n",
    "    def __init__(self, difficulty=2):\n",
    "        self.chain = []\n",
    "        self.difficulty = difficulty\n",
    "        self.pending_transactions = []\n",
    "        self.create_genesis_block()\n",
    "\n",
    "    def create_genesis_block(self):\n",
    "        genesis_block = Block(0, [], time.time(), \"0\")\n",
    "        self.chain.append(genesis_block)\n",
    "\n",
    "    def get_last_block(self):\n",
    "        return self.chain[-1]\n",
    "\n",
    "    def add_transaction(self, transaction):\n",
    "        self.pending_transactions.append(transaction)\n",
    "\n",
    "    def mine_pending_transactions(self):\n",
    "        if not self.pending_transactions:\n",
    "            print(\"No transactions to mine.\")\n",
    "            return\n",
    "\n",
    "        new_block = Block(\n",
    "            index=len(self.chain),\n",
    "            transactions=self.pending_transactions,\n",
    "            timestamp=time.time(),\n",
    "            previous_hash=self.get_last_block().hash\n",
    "        )\n",
    "\n",
    "        print(\"Mining block...\")\n",
    "\n",
    "        # while not new_block.hash.startswith('0' * self.difficulty):\n",
    "        #     new_block.nonce += 1\n",
    "        #     new_block.hash = new_block.compute_hash()\n",
    "\n",
    "        # mine_block_multiprocessing(new_block, difficulty=self.difficulty, processes=cpu_count())\n",
    "\n",
    "        print(f\"Block mined: {new_block.hash}\")\n",
    "        self.chain.append(new_block)\n",
    "        self.pending_transactions = []\n",
    "\n",
    "    def is_chain_valid(self):\n",
    "        for i in range(1, len(self.chain)):\n",
    "            curr = self.chain[i]\n",
    "            prev = self.chain[i - 1]\n",
    "\n",
    "            if curr.hash != curr.compute_hash():\n",
    "                return False\n",
    "            if curr.previous_hash != prev.hash:\n",
    "                return False\n",
    "            if not curr.hash.startswith('0' * self.difficulty):\n",
    "                return False\n",
    "        return True\n"
   ],
   "metadata": {
    "collapsed": false,
    "ExecuteTime": {
     "end_time": "2025-04-29T13:01:07.501902Z",
     "start_time": "2025-04-29T13:01:07.495917Z"
    }
   },
   "id": "33e5adbb1f99f051",
   "execution_count": 16
  },
  {
   "cell_type": "code",
   "outputs": [],
   "source": [
    "bc = Blockchain(difficulty=4)\n",
    "\n",
    "\n"
   ],
   "metadata": {
    "collapsed": false,
    "ExecuteTime": {
     "end_time": "2025-04-29T13:01:07.507169Z",
     "start_time": "2025-04-29T13:01:07.503530Z"
    }
   },
   "id": "5bc21d964945c8a",
   "execution_count": 17
  },
  {
   "cell_type": "code",
   "outputs": [
    {
     "name": "stdout",
     "output_type": "stream",
     "text": [
      "Mining block...\n",
      "Block mined: 132b9a367dd2b6534c39fa9f8ffd8aa9bee971f5ac3b8bfea1deb4ad5ab62a7b\n",
      "\n",
      "Block 0\n",
      "Hash: 4b6a5be9f8948d1948b45004bbd7be1bee5704e557ab80e9a1406f2423944a3b\n",
      "Prev: 0\n",
      "Transactions: []\n",
      "\n",
      "Block 1\n",
      "Hash: 132b9a367dd2b6534c39fa9f8ffd8aa9bee971f5ac3b8bfea1deb4ad5ab62a7b\n",
      "Prev: 4b6a5be9f8948d1948b45004bbd7be1bee5704e557ab80e9a1406f2423944a3b\n",
      "Transactions: [{'from': 'Alice', 'to': 'Bob', 'amount': 10}, {'from': 'Bob', 'to': 'Charlie', 'amount': 5}]\n",
      "False\n"
     ]
    }
   ],
   "source": [
    "bc.add_transaction({\"from\": \"Alice\", \"to\": \"Bob\", \"amount\": 10})\n",
    "bc.add_transaction({\"from\": \"Bob\", \"to\": \"Charlie\", \"amount\": 5})\n",
    "\n",
    "bc.mine_pending_transactions()\n",
    "\n",
    "for block in bc.chain:\n",
    "    print(f\"\\nBlock {block.index}\")\n",
    "    print(f\"Hash: {block.hash}\")\n",
    "    print(f\"Prev: {block.previous_hash}\")\n",
    "    print(f\"Transactions: {block.transactions}\")\n",
    "\n",
    "print(bc.is_chain_valid())"
   ],
   "metadata": {
    "collapsed": false,
    "ExecuteTime": {
     "end_time": "2025-04-29T13:01:07.512722Z",
     "start_time": "2025-04-29T13:01:07.508223Z"
    }
   },
   "id": "94aece3f2036682b",
   "execution_count": 18
  },
  {
   "cell_type": "code",
   "outputs": [],
   "source": [
    "def worker(name):\n",
    "    print(f\"Process {name} bắt đầu\")\n",
    "    time.sleep(2)\n",
    "    print(f\"Process {name} kết thúc\")\n"
   ],
   "metadata": {
    "collapsed": false,
    "ExecuteTime": {
     "end_time": "2025-04-29T13:01:07.517591Z",
     "start_time": "2025-04-29T13:01:07.513783Z"
    }
   },
   "id": "6c881b0ed64b45d0",
   "execution_count": 19
  },
  {
   "cell_type": "code",
   "outputs": [
    {
     "name": "stdout",
     "output_type": "stream",
     "text": [
      "Hoàn tất tất cả tiến trình.\n"
     ]
    }
   ],
   "source": [
    "p1 = Process(target=worker, args=(\"A\",))\n",
    "p2 = Process(target=worker, args=(\"B\",))\n",
    "\n",
    "p1.start()\n",
    "p2.start()\n",
    "\n",
    "p1.join()\n",
    "p2.join()\n",
    "\n",
    "print(\"Hoàn tất tất cả tiến trình.\")"
   ],
   "metadata": {
    "collapsed": false,
    "ExecuteTime": {
     "end_time": "2025-04-29T13:01:07.628288Z",
     "start_time": "2025-04-29T13:01:07.518607Z"
    }
   },
   "id": "de5ec92235418a22",
   "execution_count": 20
  },
  {
   "cell_type": "code",
   "source": [
    "\n",
    "\n",
    "from eth_keys import keys\n",
    "from eth_utils import keccak\n",
    "import json\n",
    "\n",
    "\n",
    "class Transaction:\n",
    "    def __init__(self, tx_type, payload, sender=None, receiver=None, signature=None):\n",
    "        self.tx_type = tx_type  # e.g. 'payment', 'document', 'vote', etc.\n",
    "        self.payload = payload  # Dữ liệu cụ thể (dict, text...)\n",
    "        self.sender = sender\n",
    "        self.receiver = receiver\n",
    "        self.signature = signature\n",
    "\n",
    "    def to_dict(self):\n",
    "        return {\n",
    "            \"type\": self.tx_type,\n",
    "            \"payload\": self.payload,\n",
    "            \"sender\": self.sender,\n",
    "            \"receiver\": self.receiver\n",
    "        }\n",
    "\n",
    "    def compute_hash_msg(self):\n",
    "        message = json.dumps(self.to_dict(), sort_keys=True).encode('utf-8')\n",
    "        return keccak(message)\n",
    "\n",
    "\n",
    "\n",
    "    # Hàm: xác minh chữ ký từ giao dịch + chữ ký\n",
    "    def verify(self) -> bool:\n",
    "        tx_hash = self.compute_hash_msg()\n",
    "        signature_hex = self.signature\n",
    "\n",
    "        signature = keys.Signature(bytes.fromhex(signature_hex[2:] if signature_hex.startswith(\"0x\") else signature_hex))\n",
    "        pub_key = signature.recover_public_key_from_msg_hash(tx_hash)\n",
    "        recovered_address = pub_key.to_checksum_address()\n",
    "\n",
    "        return recovered_address.lower() == self.sender.lower()\n",
    "\n",
    "\n",
    "    def __str__(self):\n",
    "        return f\"{{type: {self.tx_type}, payload: {self.payload}, sender: {self.sender}, receiver: {self.receiver}}}\"\n",
    "\n",
    "\n",
    "    def __repr__(self):\n",
    "        return self.__str__()"
   ],
   "metadata": {
    "collapsed": false,
    "ExecuteTime": {
     "end_time": "2025-05-01T07:35:14.690153Z",
     "start_time": "2025-05-01T07:35:14.679304Z"
    }
   },
   "id": "63ffee11425574f",
   "outputs": [],
   "execution_count": 86
  },
  {
   "metadata": {
    "ExecuteTime": {
     "end_time": "2025-05-01T07:35:15.303543Z",
     "start_time": "2025-05-01T07:35:15.297622Z"
    }
   },
   "cell_type": "code",
   "source": [
    "from eth_keys import keys\n",
    "from eth_utils import keccak\n",
    "import json\n",
    "\n",
    "# Tạo key (giống như ví Ethereum)\n",
    "private_key = keys.PrivateKey(b'\\x01' * 32)  # Ví dụ: private key tĩnh\n",
    "private_key_hex = private_key.to_hex()\n",
    "public_key = private_key.public_key\n",
    "sender_address = public_key.to_checksum_address()"
   ],
   "id": "c45b8f4b168e7081",
   "outputs": [],
   "execution_count": 87
  },
  {
   "metadata": {
    "ExecuteTime": {
     "end_time": "2025-05-01T07:35:29.382244Z",
     "start_time": "2025-05-01T07:35:29.366297Z"
    }
   },
   "cell_type": "code",
   "source": [
    "from sign_transation import sign_transaction\n",
    "\n",
    "tx = Transaction(\"payment\", {\"amount\": 10}, sender=sender_address,\n",
    "                 receiver=\"0x12345678901234567890123456789012345678901\")\n",
    "print(sender_address)\n",
    "tx.signature = sign_transaction(tx.compute_hash_msg(), private_key_hex)\n",
    "print(tx.compute_hash_msg())\n",
    "print(tx.verify())"
   ],
   "id": "c44e5986528060f0",
   "outputs": [
    {
     "name": "stdout",
     "output_type": "stream",
     "text": [
      "0x1a642f0E3c3aF545E7AcBD38b07251B3990914F1\n",
      "b'\\xc8c\\xb3\\xe7?\\x83\\x1a\\xc6\\xe8\\xbd\\xcf\\xe7+u\\xc2M2\\x95gO\\xb6\\xe6\\xd2\\x87_?\\x84G\\x8a*\\x7f\\x8f'\n",
      "True\n"
     ]
    }
   ],
   "execution_count": 89
  },
  {
   "metadata": {
    "ExecuteTime": {
     "end_time": "2025-05-01T07:35:42.831685Z",
     "start_time": "2025-05-01T07:35:42.828203Z"
    }
   },
   "cell_type": "code",
   "source": [
    "print(tx.compute_hash_msg().hex())\n",
    "print(tx.signature)"
   ],
   "id": "93d62b1abf149a09",
   "outputs": [
    {
     "name": "stdout",
     "output_type": "stream",
     "text": [
      "c863b3e73f831ac6e8bdcfe72b75c24d3295674fb6e6d2875f3f84478a2a7f8f\n",
      "0x4026c53129b2db72350bd26f8d10a6176ebee2fabb21f4a27085783724d6f6d826011777ee165e07289d36d93fe54d6ad0aa79ceeccc8a6dee19392f4878326f01\n"
     ]
    }
   ],
   "execution_count": 91
  },
  {
   "metadata": {
    "ExecuteTime": {
     "end_time": "2025-05-01T06:25:32.582632Z",
     "start_time": "2025-05-01T06:25:32.579951Z"
    }
   },
   "cell_type": "code",
   "source": [
    "print(priv_hex)\n",
    "print(pub_hex)"
   ],
   "id": "e73320ce82ce46b4",
   "outputs": [
    {
     "name": "stdout",
     "output_type": "stream",
     "text": [
      "2a54ea2adae982453756bcfa66b5bba5dc5b71a93dd81cdc26a964a909432104\n",
      "c01c886393d2db9fa79ac9cd56ae4bb316e05ebeafd18fb2be046ebfd63d6a1284600bc3b77b7bb0822428577adf78ff466919efb011a5b6ed67741ac5eb1c49\n"
     ]
    }
   ],
   "execution_count": 27
  },
  {
   "metadata": {
    "ExecuteTime": {
     "end_time": "2025-05-01T06:30:38.196768Z",
     "start_time": "2025-05-01T06:30:38.194303Z"
    }
   },
   "cell_type": "code",
   "source": "print(public_key.to_string().hex())",
   "id": "95f6783b892374f5",
   "outputs": [
    {
     "name": "stdout",
     "output_type": "stream",
     "text": [
      "c01c886393d2db9fa79ac9cd56ae4bb316e05ebeafd18fb2be046ebfd63d6a1284600bc3b77b7bb0822428577adf78ff466919efb011a5b6ed67741ac5eb1c49\n"
     ]
    }
   ],
   "execution_count": 30
  },
  {
   "metadata": {},
   "cell_type": "code",
   "outputs": [],
   "execution_count": null,
   "source": "",
   "id": "75dc3e45106ca42b"
  }
 ],
 "metadata": {
  "kernelspec": {
   "display_name": "Python 3",
   "language": "python",
   "name": "python3"
  },
  "language_info": {
   "codemirror_mode": {
    "name": "ipython",
    "version": 2
   },
   "file_extension": ".py",
   "mimetype": "text/x-python",
   "name": "python",
   "nbconvert_exporter": "python",
   "pygments_lexer": "ipython2",
   "version": "2.7.6"
  }
 },
 "nbformat": 4,
 "nbformat_minor": 5
}
