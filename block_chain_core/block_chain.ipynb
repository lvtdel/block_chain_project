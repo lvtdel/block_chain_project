{
 "cells": [
  {
   "cell_type": "code",
   "execution_count": 11,
   "id": "initial_id",
   "metadata": {
    "collapsed": true,
    "ExecuteTime": {
     "end_time": "2025-04-29T13:01:07.367566Z",
     "start_time": "2025-04-29T13:01:07.365201Z"
    }
   },
   "outputs": [],
   "source": []
  },
  {
   "cell_type": "code",
   "outputs": [],
   "source": [
    "import hashlib\n",
    "import time\n",
    "import json\n",
    "\n",
    "\n",
    "class Block:\n",
    "    def __init__(self, index, transactions, timestamp, previous_hash, nonce=0):\n",
    "        self.index = index\n",
    "        self.transactions = transactions  # list of dict\n",
    "        self.timestamp = timestamp\n",
    "        self.previous_hash = previous_hash\n",
    "        self.nonce = nonce\n",
    "        self.merkle_root = self.compute_merkle_root()\n",
    "        self.hash = self.compute_hash()\n",
    "\n",
    "    def compute_merkle_root(self):\n",
    "        def hash_pair(a, b):\n",
    "            return hashlib.sha256((a + b).encode()).hexdigest()\n",
    "\n",
    "        tx_hashes = [hashlib.sha256(json.dumps(tx, sort_keys=True).encode()).hexdigest()\n",
    "                     for tx in self.transactions]\n",
    "\n",
    "        while len(tx_hashes) > 1:\n",
    "            if len(tx_hashes) % 2 == 1:  # make even\n",
    "                tx_hashes.append(tx_hashes[-1])\n",
    "            tx_hashes = [hash_pair(tx_hashes[i], tx_hashes[i + 1])\n",
    "                         for i in range(0, len(tx_hashes), 2)]\n",
    "\n",
    "        return tx_hashes[0] if tx_hashes else ''\n",
    "\n",
    "    def compute_hash(self):\n",
    "        block_string = json.dumps({\n",
    "            \"index\": self.index,\n",
    "            \"transactions\": self.transactions,\n",
    "            \"timestamp\": self.timestamp,\n",
    "            \"previous_hash\": self.previous_hash,\n",
    "            \"nonce\": self.nonce,\n",
    "            \"merkle_root\": self.merkle_root\n",
    "        }, sort_keys=True)\n",
    "        return hashlib.sha256(block_string.encode()).hexdigest()"
   ],
   "metadata": {
    "collapsed": false,
    "ExecuteTime": {
     "end_time": "2025-04-29T13:01:07.379515Z",
     "start_time": "2025-04-29T13:01:07.374256Z"
    }
   },
   "id": "10eab909fae901f6",
   "execution_count": 12
  },
  {
   "cell_type": "code",
   "outputs": [
    {
     "name": "stdout",
     "output_type": "stream",
     "text": [
      "0\n",
      "0\n"
     ]
    }
   ],
   "source": [
    "import time\n",
    "import hashlib\n",
    "from multiprocessing import Process, Value, cpu_count\n",
    "from typing import List\n",
    "\n",
    "def mine_worker(start_nonce, step, block: Block, difficulty: int, result_nonce: Value, found_flag: Value):\n",
    "    print(\"Miner start\")\n",
    "    time.sleep(3)\n",
    "    # prefix = '0' * difficulty\n",
    "    # nonce = start_nonce\n",
    "    # \n",
    "    # while not found_flag.value:\n",
    "    #     block.nonce = nonce\n",
    "    #     current_hash = block.compute_hash()\n",
    "    #     if current_hash.startswith(prefix):\n",
    "    #         with result_nonce.get_lock(), found_flag.get_lock():\n",
    "    #             if not found_flag.value:\n",
    "    #                 print(f\"Found result nonce: {nonce}\")\n",
    "    #                 result_nonce.value = nonce\n",
    "    #                 found_flag.value = 1\n",
    "    #         return\n",
    "    #     nonce += step\n",
    "\n",
    "\n",
    "def mine_block_multiprocessing(block: Block, difficulty: int, processes: int = 4):\n",
    "    result_nonce = Value('i', 2)\n",
    "    found_flag = Value('i', 0)\n",
    "\n",
    "    # workers = []\n",
    "    # for i in range(4):\n",
    "    #     p = Process(target=mine_worker, args=(i*1000, 1, block, difficulty, result_nonce, found_flag))\n",
    "    #     p.start()\n",
    "    #     workers.append(p)\n",
    "    # \n",
    "    # for p in workers:\n",
    "    #     p.join()\n",
    "    p = Process(target=mine_worker, args=(1, 10000, block, 3, result_nonce, found_flag))\n",
    "    p.start()\n",
    "    p.join()\n",
    "\n",
    "    # Gán lại nonce và hash chính xác vào block\n",
    "    block.nonce = result_nonce.value\n",
    "    block.hash = block.compute_hash()\n",
    "\n",
    "    print(f\" Nonce found: {result_nonce.value}\")\n",
    "    print(block.hash)"
   ],
   "metadata": {
    "collapsed": false,
    "ExecuteTime": {
     "end_time": "2025-04-29T13:01:28.125090Z",
     "start_time": "2025-04-29T13:01:28.022659Z"
    }
   },
   "id": "b9fbe64458e929b7",
   "execution_count": 23
  },
  {
   "cell_type": "code",
   "outputs": [
    {
     "name": "stdout",
     "output_type": "stream",
     "text": [
      "0\n",
      "0\n"
     ]
    }
   ],
   "source": [
    "new_block = Block(\n",
    "    index=1,\n",
    "    transactions=[{\"from\": \"Alice\", \"to\": \"Bob\", \"amount\": 10}],\n",
    "    timestamp=time.time(),\n",
    "    previous_hash=123213\n",
    ")\n",
    "\n",
    "result_nonce = Value('i', 0)\n",
    "found_flag = Value('i', 0)\n",
    "\n",
    "# mine_worker(1,10000,new_block,3,result_nonce,found_flag)\n",
    "p = Process(target=mine_worker, args=(1,10000,new_block,3,result_nonce,found_flag))\n",
    "p.start()\n",
    "p.join()\n",
    "\n",
    "print(result_nonce.value)\n",
    "print(found_flag.value)\n",
    "\n",
    "# mine_block_multiprocessing(new_block, 4)"
   ],
   "metadata": {
    "collapsed": false,
    "ExecuteTime": {
     "end_time": "2025-04-29T13:01:15.165063Z",
     "start_time": "2025-04-29T13:01:15.069564Z"
    }
   },
   "id": "655e485f1afa0f4",
   "execution_count": 22
  },
  {
   "cell_type": "code",
   "outputs": [
    {
     "name": "stdout",
     "output_type": "stream",
     "text": [
      "0\n"
     ]
    }
   ],
   "source": [
    "# new_block.nonce = result_nonce.value\n",
    "# print(new_block.compute_hash())\n",
    "\n",
    "print(new_block.nonce)"
   ],
   "metadata": {
    "collapsed": false,
    "ExecuteTime": {
     "end_time": "2025-04-29T13:01:07.494859Z",
     "start_time": "2025-04-29T13:01:07.491968Z"
    }
   },
   "id": "9f3109b43e45dcc1",
   "execution_count": 15
  },
  {
   "cell_type": "code",
   "outputs": [],
   "source": [
    "class Blockchain:\n",
    "    def __init__(self, difficulty=2):\n",
    "        self.chain = []\n",
    "        self.difficulty = difficulty\n",
    "        self.pending_transactions = []\n",
    "        self.create_genesis_block()\n",
    "\n",
    "    def create_genesis_block(self):\n",
    "        genesis_block = Block(0, [], time.time(), \"0\")\n",
    "        self.chain.append(genesis_block)\n",
    "\n",
    "    def get_last_block(self):\n",
    "        return self.chain[-1]\n",
    "\n",
    "    def add_transaction(self, transaction):\n",
    "        self.pending_transactions.append(transaction)\n",
    "\n",
    "    def mine_pending_transactions(self):\n",
    "        if not self.pending_transactions:\n",
    "            print(\"No transactions to mine.\")\n",
    "            return\n",
    "\n",
    "        new_block = Block(\n",
    "            index=len(self.chain),\n",
    "            transactions=self.pending_transactions,\n",
    "            timestamp=time.time(),\n",
    "            previous_hash=self.get_last_block().hash\n",
    "        )\n",
    "\n",
    "        print(\"Mining block...\")\n",
    "\n",
    "        # while not new_block.hash.startswith('0' * self.difficulty):\n",
    "        #     new_block.nonce += 1\n",
    "        #     new_block.hash = new_block.compute_hash()\n",
    "\n",
    "        # mine_block_multiprocessing(new_block, difficulty=self.difficulty, processes=cpu_count())\n",
    "\n",
    "        print(f\"Block mined: {new_block.hash}\")\n",
    "        self.chain.append(new_block)\n",
    "        self.pending_transactions = []\n",
    "\n",
    "    def is_chain_valid(self):\n",
    "        for i in range(1, len(self.chain)):\n",
    "            curr = self.chain[i]\n",
    "            prev = self.chain[i - 1]\n",
    "\n",
    "            if curr.hash != curr.compute_hash():\n",
    "                return False\n",
    "            if curr.previous_hash != prev.hash:\n",
    "                return False\n",
    "            if not curr.hash.startswith('0' * self.difficulty):\n",
    "                return False\n",
    "        return True\n"
   ],
   "metadata": {
    "collapsed": false,
    "ExecuteTime": {
     "end_time": "2025-04-29T13:01:07.501902Z",
     "start_time": "2025-04-29T13:01:07.495917Z"
    }
   },
   "id": "33e5adbb1f99f051",
   "execution_count": 16
  },
  {
   "cell_type": "code",
   "outputs": [],
   "source": [
    "bc = Blockchain(difficulty=4)\n",
    "\n",
    "\n"
   ],
   "metadata": {
    "collapsed": false,
    "ExecuteTime": {
     "end_time": "2025-04-29T13:01:07.507169Z",
     "start_time": "2025-04-29T13:01:07.503530Z"
    }
   },
   "id": "5bc21d964945c8a",
   "execution_count": 17
  },
  {
   "cell_type": "code",
   "outputs": [
    {
     "name": "stdout",
     "output_type": "stream",
     "text": [
      "Mining block...\n",
      "Block mined: 132b9a367dd2b6534c39fa9f8ffd8aa9bee971f5ac3b8bfea1deb4ad5ab62a7b\n",
      "\n",
      "Block 0\n",
      "Hash: 4b6a5be9f8948d1948b45004bbd7be1bee5704e557ab80e9a1406f2423944a3b\n",
      "Prev: 0\n",
      "Transactions: []\n",
      "\n",
      "Block 1\n",
      "Hash: 132b9a367dd2b6534c39fa9f8ffd8aa9bee971f5ac3b8bfea1deb4ad5ab62a7b\n",
      "Prev: 4b6a5be9f8948d1948b45004bbd7be1bee5704e557ab80e9a1406f2423944a3b\n",
      "Transactions: [{'from': 'Alice', 'to': 'Bob', 'amount': 10}, {'from': 'Bob', 'to': 'Charlie', 'amount': 5}]\n",
      "False\n"
     ]
    }
   ],
   "source": [
    "bc.add_transaction({\"from\": \"Alice\", \"to\": \"Bob\", \"amount\": 10})\n",
    "bc.add_transaction({\"from\": \"Bob\", \"to\": \"Charlie\", \"amount\": 5})\n",
    "\n",
    "bc.mine_pending_transactions()\n",
    "\n",
    "for block in bc.chain:\n",
    "    print(f\"\\nBlock {block.index}\")\n",
    "    print(f\"Hash: {block.hash}\")\n",
    "    print(f\"Prev: {block.previous_hash}\")\n",
    "    print(f\"Transactions: {block.transactions}\")\n",
    "\n",
    "print(bc.is_chain_valid())"
   ],
   "metadata": {
    "collapsed": false,
    "ExecuteTime": {
     "end_time": "2025-04-29T13:01:07.512722Z",
     "start_time": "2025-04-29T13:01:07.508223Z"
    }
   },
   "id": "94aece3f2036682b",
   "execution_count": 18
  },
  {
   "cell_type": "code",
   "outputs": [],
   "source": [
    "def worker(name):\n",
    "    print(f\"Process {name} bắt đầu\")\n",
    "    time.sleep(2)\n",
    "    print(f\"Process {name} kết thúc\")\n"
   ],
   "metadata": {
    "collapsed": false,
    "ExecuteTime": {
     "end_time": "2025-04-29T13:01:07.517591Z",
     "start_time": "2025-04-29T13:01:07.513783Z"
    }
   },
   "id": "6c881b0ed64b45d0",
   "execution_count": 19
  },
  {
   "cell_type": "code",
   "outputs": [
    {
     "name": "stdout",
     "output_type": "stream",
     "text": [
      "Hoàn tất tất cả tiến trình.\n"
     ]
    }
   ],
   "source": [
    "p1 = Process(target=worker, args=(\"A\",))\n",
    "p2 = Process(target=worker, args=(\"B\",))\n",
    "\n",
    "p1.start()\n",
    "p2.start()\n",
    "\n",
    "p1.join()\n",
    "p2.join()\n",
    "\n",
    "print(\"Hoàn tất tất cả tiến trình.\")"
   ],
   "metadata": {
    "collapsed": false,
    "ExecuteTime": {
     "end_time": "2025-04-29T13:01:07.628288Z",
     "start_time": "2025-04-29T13:01:07.518607Z"
    }
   },
   "id": "de5ec92235418a22",
   "execution_count": 20
  },
  {
   "cell_type": "code",
   "outputs": [],
   "source": [],
   "metadata": {
    "collapsed": false,
    "ExecuteTime": {
     "end_time": "2025-04-29T13:01:07.631030Z",
     "start_time": "2025-04-29T13:01:07.629423Z"
    }
   },
   "id": "63ffee11425574f",
   "execution_count": 20
  }
 ],
 "metadata": {
  "kernelspec": {
   "display_name": "Python 3",
   "language": "python",
   "name": "python3"
  },
  "language_info": {
   "codemirror_mode": {
    "name": "ipython",
    "version": 2
   },
   "file_extension": ".py",
   "mimetype": "text/x-python",
   "name": "python",
   "nbconvert_exporter": "python",
   "pygments_lexer": "ipython2",
   "version": "2.7.6"
  }
 },
 "nbformat": 4,
 "nbformat_minor": 5
}
