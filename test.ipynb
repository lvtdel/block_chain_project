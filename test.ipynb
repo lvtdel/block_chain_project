{
 "cells": [
  {
   "cell_type": "code",
   "id": "initial_id",
   "metadata": {
    "collapsed": true,
    "ExecuteTime": {
     "end_time": "2025-05-01T17:41:13.737802Z",
     "start_time": "2025-05-01T17:41:13.731844Z"
    }
   },
   "source": [
    "import grpc\n",
    "from block_chain_grpc import blockchain_pb2\n",
    "from block_chain_grpc import blockchain_pb2_grpc\n",
    "\n",
    "def get_chain_from_node(host=\"localhost\", port=50051):\n",
    "    with grpc.insecure_channel(f\"{host}:{port}\") as channel:\n",
    "        stub = blockchain_pb2_grpc.BlockchainServiceStub(channel)\n",
    "        response = stub.StreamChain(blockchain_pb2.Empty())\n",
    "\n",
    "        for block in response:\n",
    "            print(f\"Block {block.index}: {block.hash}\")\n",
    "\n",
    "get_chain_from_node()\n"
   ],
   "outputs": [
    {
     "name": "stdout",
     "output_type": "stream",
     "text": [
      "Block 0: bf4cbec31fb1e977f09fb8b6282ed81628fee0e8785d46f0a44230f0ae27f379\n",
      "Block 1: 00078f6f11f6dc86331837da7f759cededaf42d4882a2bbaeb38bd2ea6884cee\n"
     ]
    }
   ],
   "execution_count": 4
  },
  {
   "metadata": {
    "ExecuteTime": {
     "end_time": "2025-05-01T17:38:56.356329100Z",
     "start_time": "2025-05-01T15:04:19.186574Z"
    }
   },
   "cell_type": "code",
   "source": "",
   "id": "a79c73f86877f19d",
   "outputs": [],
   "execution_count": 6
  },
  {
   "metadata": {
    "ExecuteTime": {
     "end_time": "2025-05-01T17:38:56.356329100Z",
     "start_time": "2025-05-01T15:04:19.687157Z"
    }
   },
   "cell_type": "code",
   "source": "",
   "id": "e22bd2062b4d0c88",
   "outputs": [
    {
     "data": {
      "text/plain": [
       "True"
      ]
     },
     "execution_count": 7,
     "metadata": {},
     "output_type": "execute_result"
    }
   ],
   "execution_count": 7
  },
  {
   "metadata": {
    "ExecuteTime": {
     "end_time": "2025-05-01T17:38:56.366378200Z",
     "start_time": "2025-05-01T15:04:20.184728Z"
    }
   },
   "cell_type": "code",
   "source": "",
   "id": "bc704c31563c9869",
   "outputs": [
    {
     "data": {
      "text/plain": [
       "True"
      ]
     },
     "execution_count": 8,
     "metadata": {},
     "output_type": "execute_result"
    },
    {
     "name": "stdout",
     "output_type": "stream",
     "text": [
      "Mining block...\n"
     ]
    }
   ],
   "execution_count": 8
  },
  {
   "metadata": {
    "ExecuteTime": {
     "end_time": "2025-05-01T17:38:56.367414300Z",
     "start_time": "2025-05-01T15:03:46.691880Z"
    }
   },
   "cell_type": "code",
   "source": "",
   "id": "b24f03ee7939a388",
   "outputs": [],
   "execution_count": null
  }
 ],
 "metadata": {
  "kernelspec": {
   "display_name": "Python 3",
   "language": "python",
   "name": "python3"
  },
  "language_info": {
   "codemirror_mode": {
    "name": "ipython",
    "version": 2
   },
   "file_extension": ".py",
   "mimetype": "text/x-python",
   "name": "python",
   "nbconvert_exporter": "python",
   "pygments_lexer": "ipython2",
   "version": "2.7.6"
  }
 },
 "nbformat": 4,
 "nbformat_minor": 5
}
