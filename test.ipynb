{
 "cells": [
  {
   "cell_type": "code",
   "id": "initial_id",
   "metadata": {
    "collapsed": true,
    "ExecuteTime": {
     "end_time": "2025-05-01T15:04:18.730151Z",
     "start_time": "2025-05-01T15:04:18.726492Z"
    }
   },
   "source": [
    "from pyee import EventEmitter\n",
    "\n",
    "from block_chain_core.block_chain import Blockchain\n",
    "from block_chain_core.miner import Miner\n",
    "\n",
    "ee = EventEmitter()\n",
    "block_chain = Blockchain(difficulty=2, ee=ee)\n",
    "miner = Miner(block_chain, 2)\n"
   ],
   "outputs": [],
   "execution_count": 5
  },
  {
   "metadata": {
    "ExecuteTime": {
     "end_time": "2025-05-01T15:04:19.189768Z",
     "start_time": "2025-05-01T15:04:19.186574Z"
    }
   },
   "cell_type": "code",
   "source": [
    "from block_chain_core.transation import Transaction\n",
    "\n",
    "nonce = 1\n",
    "sender_address = \"0xd206080A25862e79C74B804273936A0e843DAa03\"\n",
    "tx = Transaction(\"payment\", {\"amount\": 100, \"currency\": \"USD\"}, sender_address, \"\", nonce=nonce,\n",
    "                 receiver=\"0xf0faC6cc7eB427268C405A462bF304a2ac84A425\")\n",
    "tx.signature = \"0xf86dc2b35b65302a9e3d7aeaa9f53f70456993c9cd3a44abcb7009440c75b8e206e0b689e652fef45a11878f8aca31eed3b61ee4cb7cbfa804cf60f9e22ddd8201\""
   ],
   "id": "a79c73f86877f19d",
   "outputs": [],
   "execution_count": 6
  },
  {
   "metadata": {
    "ExecuteTime": {
     "end_time": "2025-05-01T15:04:19.710334Z",
     "start_time": "2025-05-01T15:04:19.687157Z"
    }
   },
   "cell_type": "code",
   "source": "tx.verify()",
   "id": "e22bd2062b4d0c88",
   "outputs": [
    {
     "data": {
      "text/plain": [
       "True"
      ]
     },
     "execution_count": 7,
     "metadata": {},
     "output_type": "execute_result"
    }
   ],
   "execution_count": 7
  },
  {
   "metadata": {
    "ExecuteTime": {
     "end_time": "2025-05-01T15:04:20.197287Z",
     "start_time": "2025-05-01T15:04:20.184728Z"
    }
   },
   "cell_type": "code",
   "source": "miner.add_transaction(tx)",
   "id": "bc704c31563c9869",
   "outputs": [
    {
     "data": {
      "text/plain": [
       "True"
      ]
     },
     "execution_count": 8,
     "metadata": {},
     "output_type": "execute_result"
    },
    {
     "name": "stdout",
     "output_type": "stream",
     "text": [
      "Mining block...\n"
     ]
    }
   ],
   "execution_count": 8
  },
  {
   "metadata": {
    "ExecuteTime": {
     "end_time": "2025-05-01T15:03:46.693830Z",
     "start_time": "2025-05-01T15:03:46.691880Z"
    }
   },
   "cell_type": "code",
   "source": "",
   "id": "b24f03ee7939a388",
   "outputs": [],
   "execution_count": null
  }
 ],
 "metadata": {
  "kernelspec": {
   "display_name": "Python 3",
   "language": "python",
   "name": "python3"
  },
  "language_info": {
   "codemirror_mode": {
    "name": "ipython",
    "version": 2
   },
   "file_extension": ".py",
   "mimetype": "text/x-python",
   "name": "python",
   "nbconvert_exporter": "python",
   "pygments_lexer": "ipython2",
   "version": "2.7.6"
  }
 },
 "nbformat": 4,
 "nbformat_minor": 5
}
